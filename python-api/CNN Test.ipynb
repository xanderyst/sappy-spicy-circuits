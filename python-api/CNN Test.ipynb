{
 "cells": [
  {
   "cell_type": "code",
   "execution_count": 6,
   "metadata": {
    "collapsed": false
   },
   "outputs": [],
   "source": [
    "import tensorflow as tf"
   ]
  },
  {
   "cell_type": "markdown",
   "metadata": {},
   "source": [
    "Use the below cells "
   ]
  },
  {
   "cell_type": "code",
   "execution_count": 2,
   "metadata": {
    "collapsed": true
   },
   "outputs": [],
   "source": [
    "def create_weights(shape):\n",
    "    return tf.Variable(tf.truncated_normal(shape, stddev=0.05))\n",
    "\n",
    "def create_biases(size):\n",
    "    return tf.Variable(tf.constant(0.05, shape=[size]))\n",
    "\n",
    "def create_convlutional_layer(input,\n",
    "                             num_input_channels,\n",
    "                             conv_filter_size,\n",
    "                             num_filters):\n",
    "    \n",
    "    weights = create_weights(shape=[conv_filter_size, \n",
    "                                    conv_filter_size, \n",
    "                                    num_input_channels, \n",
    "                                    num_filters])\n",
    "    \n",
    "    biases = create_biases(num_filters)\n",
    "    \n",
    "    layer = tf.nn.conv2d(input=input,\n",
    "                        filter=weights,\n",
    "                        strides=[1,1,1,1],\n",
    "                        padding='SAME')\n",
    "    \n",
    "    # Add biases to the layer\n",
    "    layer += biases\n",
    "    \n",
    "    # Pass layer to max_pooling\n",
    "    layer = tf.nn.max_pool(value=layer, \n",
    "                           ksize=[1,2,2,1], \n",
    "                           strides=[1,1,1,1],\n",
    "                           padding='SAME')\n",
    "    \n",
    "    # Pass max pooling output to relu\n",
    "    layer = tf.nn.relu(layer)\n",
    "    \n",
    "    return layer\n",
    "\n",
    "def create_flatten_layer(layer):\n",
    "    layer_shape = layer.get_shape()\n",
    "    num_features = layer_shape[1:4].num_elements()\n",
    "    layer = tf.reshape(layer, [-1, num_features])\n",
    "    \n",
    "    return layer\n",
    "\n",
    "def create_fc_layer(input,\n",
    "                   num_inputs,\n",
    "                   num_outputs,\n",
    "                   use_relu=True):\n",
    "    \n",
    "    weights = create_weights(shape=[num_inputs, num_outputs])\n",
    "    biases = create_biases(num_outputs)\n",
    "    \n",
    "    layer = tf.matmul(input, weights) + biases\n",
    "    \n",
    "    if use_relu:\n",
    "        layer = tf.nn.relu(layer)\n",
    "        \n",
    "    return layer"
   ]
  },
  {
   "cell_type": "code",
   "execution_count": 5,
   "metadata": {
    "collapsed": false
   },
   "outputs": [],
   "source": [
    "img_size = 128\n",
    "num_channels = 3\n",
    "num_classes = 2\n",
    "\n",
    "x = tf.placeholder(tf.float32, shape=[None, img_size, img_size, num_channels], name='x')\n",
    "y_true = tf.placeholder(tf.float32, shape=[None, num_classes], name='y_true')\n",
    "y_true_cls = tf.argmax(y_true, axis=1)"
   ]
  },
  {
   "cell_type": "code",
   "execution_count": null,
   "metadata": {
    "collapsed": true
   },
   "outputs": [],
   "source": [
    "lyaer_conv1 = create_convolutional_layer(input=x,\n",
    "                                        num_input_channels=num_channels,\n",
    "                                        conv_filter_size=filter_size_conv1,\n",
    "                                        num_filters=num_filters_conv1)\n"
   ]
  }
 ],
 "metadata": {
  "kernelspec": {
   "display_name": "Python [conda root]",
   "language": "python",
   "name": "conda-root-py"
  },
  "language_info": {
   "codemirror_mode": {
    "name": "ipython",
    "version": 3
   },
   "file_extension": ".py",
   "mimetype": "text/x-python",
   "name": "python",
   "nbconvert_exporter": "python",
   "pygments_lexer": "ipython3",
   "version": "3.6.1"
  }
 },
 "nbformat": 4,
 "nbformat_minor": 2
}
